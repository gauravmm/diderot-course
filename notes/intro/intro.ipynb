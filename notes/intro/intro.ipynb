{
 "cells": [
  {
   "cell_type": "markdown",
   "metadata": {},
   "source": [
    "# Introduction\n",
    "\n",
    "This is a sample class notes document for Diderot. Due to a Diderot limiation, the first cell must be Markdown, and the first line must be a top-level header with unique text. There must be no other top-level headers in this document.\n",
    "\n",
    "Remember that IPython Notebooks support $\\LaTeX$.\n",
    "\n",
    "You can include additional files in the same directory, and even embed images like this one:\n",
    "\n",
    "![Test](olympic.png)"
   ]
  }
 ],
 "metadata": {
  "kernelspec": {
   "display_name": "Python 3",
   "language": "python",
   "name": "python3"
  },
  "language_info": {
   "codemirror_mode": {
    "name": "ipython",
    "version": 3
   },
   "file_extension": ".py",
   "mimetype": "text/x-python",
   "name": "python",
   "nbconvert_exporter": "python",
   "pygments_lexer": "ipython3",
   "version": "3.8.2"
  }
 },
 "nbformat": 4,
 "nbformat_minor": 2
}
