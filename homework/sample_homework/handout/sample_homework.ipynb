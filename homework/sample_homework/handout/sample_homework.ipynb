{
 "cells": [
  {
   "cell_type": "markdown",
   "metadata": {},
   "source": [
    "# Sample Homework\n",
    "\n",
    "This is a sample handin for Diderot. Due to a Diderot limiation, the first cell must be Markdown, and the first line must be a top-level header with unique text. There must be no other top-level headers in this document.\n",
    "\n",
    "See this sample question and reference solution:"
   ]
  },
  {
   "cell_type": "code",
   "execution_count": null,
   "metadata": {},
   "outputs": [],
   "source": [
    "from testing import test\n",
    "\n",
    "# rotate(l,n) takes a list l and an integer n, and returns a new list with the first n elements moved to the end.\n",
    "# Assume 0 <= n < len(l)\n",
    "def rotate_list_test(rotate_list):\n",
    "    test.equal(rotate_list([1,2,3,4], 0), [1,2,3,4])\n",
    "    test.equal(rotate_list([1,2,3,4], 1), [2,3,4,1])\n",
    "    test.equal(rotate_list([1,2,3,4], 2), [3,4,1,2])\n",
    "    test.equal(rotate_list([1,2,3,4], 3), [4,1,2,3])   \n",
    "\n",
    "@test\n",
    "def rotate_list(l, n):\n",
    "    return []"
   ]
  },
  {
   "cell_type": "code",
   "execution_count": null,
   "metadata": {},
   "outputs": [],
   "source": [
    "## SOLUTION ##\n",
    "\n",
    "@test\n",
    "def rotate_list(l, n):\n",
    "    return l[n:]+l[:n]"
   ]
  },
  {
   "cell_type": "markdown",
   "metadata": {},
   "source": [
    "## Testing\n",
    "\n",
    "We provide some tests for you in the previous section. These are provided to get you started with testing your code. The key to doing well is to test your code thoroughly. **You should write your own tests throughout this course.**\n",
    "\n",
    "Your score is determined by a more extensive set of tests we run privately. Passing all the tests we provide here is **not enough** to guarantee a good score on the assignment.\n",
    "\n",
    "Our test runner is similar to nose: whenever the interpreter reaches a function (with name `foo`) decorated with `@test`, it looks for `foo_test` in the enclosing scope. `foo_test` is called with `foo` as an argument. The test runner captures the results of `test.equal` calls within each test function and reports individual results.\n",
    "\n",
    "As practice, define some tests for this function:"
   ]
  },
  {
   "cell_type": "code",
   "execution_count": null,
   "metadata": {},
   "outputs": [],
   "source": [
    "def successor(n):\n",
    "    return n + 1"
   ]
  },
  {
   "cell_type": "code",
   "execution_count": null,
   "metadata": {},
   "outputs": [],
   "source": [
    "## SOLUTION ##\n",
    "def successor_test(successor):\n",
    "    test.equal(successor(0), 1)\n",
    "    test.equal(successor(1), 2)\n",
    "    test.equal(successor(-1), 0)\n",
    "\n",
    "@test\n",
    "def successor(n):\n",
    "    return n + 1"
   ]
  }
 ],
 "metadata": {
  "anaconda-cloud": {},
  "kernelspec": {
   "display_name": "Python 3",
   "language": "python",
   "name": "python3"
  },
  "language_info": {
   "codemirror_mode": {
    "name": "ipython",
    "version": 3
   },
   "file_extension": ".py",
   "mimetype": "text/x-python",
   "name": "python",
   "nbconvert_exporter": "python",
   "pygments_lexer": "ipython3",
   "version": "3.8.2"
  }
 },
 "nbformat": 4,
 "nbformat_minor": 1
}
